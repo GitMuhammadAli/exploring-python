{
 "cells": [
  {
   "cell_type": "code",
   "execution_count": null,
   "id": "c00f5ff8-0921-4e87-9609-a60042bd9fb2",
   "metadata": {},
   "outputs": [
    {
     "name": "stdout",
     "output_type": "stream",
     "text": [
      "DataFrame loaded successfully:\n",
      "   age  gender   genre\n",
      "0   20       1  HipHop\n",
      "1   23       1  HipHop\n",
      "2   25       1  HipHop\n",
      "3   26       1    Jazz\n",
      "4   29       1    Jazz\n",
      "\n",
      "\n",
      "Model saved successfully!\n",
      "Prediction for [age=21, gender=1]: HipHop\n",
      "Available genres: ['HipHop' 'Jazz' 'Classical' 'Dance' 'Acoustic']\n",
      "Model Accuracy: 0.75\n",
      "------------------------------\n",
      "Predictions for new data [[22, 1], [21, 0]]: ['HipHop' 'Dance']\n",
      "\n",
      "Data Split Information:\n",
      "X_train shape: (14, 2)\n",
      "X_test shape: (4, 2)\n",
      "Y_train shape: (14,)\n",
      "Y_test shape: (4,)\n"
     ]
    },
    {
     "name": "stderr",
     "output_type": "stream",
     "text": [
      "c:\\Ali\\py\\one\\.venv\\Lib\\site-packages\\sklearn\\utils\\validation.py:2749: UserWarning: X does not have valid feature names, but DecisionTreeClassifier was fitted with feature names\n",
      "  warnings.warn(\n",
      "c:\\Ali\\py\\one\\.venv\\Lib\\site-packages\\sklearn\\utils\\validation.py:2749: UserWarning: X does not have valid feature names, but DecisionTreeClassifier was fitted with feature names\n",
      "  warnings.warn(\n",
      "c:\\Ali\\py\\one\\.venv\\Lib\\site-packages\\sklearn\\utils\\validation.py:2749: UserWarning: X does not have valid feature names, but DecisionTreeClassifier was fitted with feature names\n",
      "  warnings.warn(\n"
     ]
    },
    {
     "data": {
      "text/plain": [
       "array(['HipHop'], dtype=object)"
      ]
     },
     "execution_count": 22,
     "metadata": {},
     "output_type": "execute_result"
    }
   ],
   "source": [
    "import pandas as pd\n",
    "from sklearn.tree import DecisionTreeClassifier\n",
    "from sklearn.model_selection import train_test_split\n",
    "from sklearn.metrics import accuracy_score\n",
    "import joblib\n",
    "\n",
    "try:\n",
    "    music = pd.read_csv(\"music.csv\")\n",
    "    print(\"DataFrame loaded successfully:\")\n",
    "    print(music.head())\n",
    "    print(\"\\n\")\n",
    "except FileNotFoundError:\n",
    "    print(\"Error: 'music.csv' not found. Please make sure the file is in the same directory.\")\n",
    "    exit()\n",
    "\n",
    "X = music.drop(columns=['genre'])\n",
    "Y = music['genre']\n",
    "\n",
    "X_train, X_test, Y_train, Y_test = train_test_split(X, Y, test_size=0.2)\n",
    "\n",
    "model = DecisionTreeClassifier()\n",
    "model.fit(X_train, Y_train)\n",
    "\n",
    "# Save the model (this doesn't return predictions)\n",
    "joblib.dump(model, \"music-recommender.joblib\")\n",
    "print(\"Model saved successfully!\")\n",
    "\n",
    "# Make prediction for age=21, gender=1 (male)\n",
    "prediction = model.predict([[21, 1]])\n",
    "print(f\"Prediction for [age=21, gender=1]: {prediction[0]}\")\n",
    "\n",
    "# To understand what the prediction means, let's see the unique genres\n",
    "print(f\"Available genres: {music['genre'].unique()}\")\n",
    "\n",
    "predictions = model.predict(X_test)\n",
    "score = accuracy_score(Y_test, predictions)\n",
    "\n",
    "print(f\"Model Accuracy: {score:.2f}\")\n",
    "print(\"-\" * 30)\n",
    "\n",
    "new_data = [[22, 1], [21, 0]] \n",
    "new_predictions = model.predict(new_data)\n",
    "print(f\"Predictions for new data {new_data}: {new_predictions}\")\n",
    "\n",
    "print(\"\\nData Split Information:\")\n",
    "print(f\"X_train shape: {X_train.shape}\")\n",
    "print(f\"X_test shape: {X_test.shape}\")\n",
    "print(f\"Y_train shape: {Y_train.shape}\")\n",
    "print(f\"Y_test shape: {Y_test.shape}\")"
   ]
  },
  {
   "cell_type": "code",
   "execution_count": null,
   "id": "32c353a8",
   "metadata": {},
   "outputs": [],
   "source": []
  }
 ],
 "metadata": {
  "kernelspec": {
   "display_name": ".venv",
   "language": "python",
   "name": "python3"
  },
  "language_info": {
   "codemirror_mode": {
    "name": "ipython",
    "version": 3
   },
   "file_extension": ".py",
   "mimetype": "text/x-python",
   "name": "python",
   "nbconvert_exporter": "python",
   "pygments_lexer": "ipython3",
   "version": "3.13.5"
  }
 },
 "nbformat": 4,
 "nbformat_minor": 5
}
